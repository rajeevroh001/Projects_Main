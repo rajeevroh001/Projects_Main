{
 "cells": [
  {
   "cell_type": "code",
   "execution_count": 1,
   "metadata": {},
   "outputs": [],
   "source": [
    "import math\n",
    "import pandas as pd\n",
    "import numpy as np\n",
    "from matplotlib import pyplot as plt\n",
    "%matplotlib inline"
   ]
  },
  {
   "cell_type": "markdown",
   "metadata": {},
   "source": [
    "# Load and Understand the data"
   ]
  },
  {
   "cell_type": "code",
   "execution_count": 2,
   "metadata": {},
   "outputs": [],
   "source": [
    "train = pd.read_csv(\"cab_fair_train.csv\", nrows = 1000000)\n",
    "## the whole trainning data set is quite huge so we sample only the first 1M rows"
   ]
  },
  {
   "cell_type": "code",
   "execution_count": 3,
   "metadata": {},
   "outputs": [
    {
     "data": {
      "text/html": [
       "<div>\n",
       "<style scoped>\n",
       "    .dataframe tbody tr th:only-of-type {\n",
       "        vertical-align: middle;\n",
       "    }\n",
       "\n",
       "    .dataframe tbody tr th {\n",
       "        vertical-align: top;\n",
       "    }\n",
       "\n",
       "    .dataframe thead th {\n",
       "        text-align: right;\n",
       "    }\n",
       "</style>\n",
       "<table border=\"1\" class=\"dataframe\">\n",
       "  <thead>\n",
       "    <tr style=\"text-align: right;\">\n",
       "      <th></th>\n",
       "      <th>key</th>\n",
       "      <th>fare_amount</th>\n",
       "      <th>pickup_datetime</th>\n",
       "      <th>pickup_longitude</th>\n",
       "      <th>pickup_latitude</th>\n",
       "      <th>dropoff_longitude</th>\n",
       "      <th>dropoff_latitude</th>\n",
       "      <th>passenger_count</th>\n",
       "    </tr>\n",
       "  </thead>\n",
       "  <tbody>\n",
       "    <tr>\n",
       "      <th>0</th>\n",
       "      <td>2009-06-15 17:26:21.0000001</td>\n",
       "      <td>4.5</td>\n",
       "      <td>2009-06-15 17:26:21 UTC</td>\n",
       "      <td>-73.844311</td>\n",
       "      <td>40.721319</td>\n",
       "      <td>-73.841610</td>\n",
       "      <td>40.712278</td>\n",
       "      <td>1</td>\n",
       "    </tr>\n",
       "    <tr>\n",
       "      <th>1</th>\n",
       "      <td>2010-01-05 16:52:16.0000002</td>\n",
       "      <td>16.9</td>\n",
       "      <td>2010-01-05 16:52:16 UTC</td>\n",
       "      <td>-74.016048</td>\n",
       "      <td>40.711303</td>\n",
       "      <td>-73.979268</td>\n",
       "      <td>40.782004</td>\n",
       "      <td>1</td>\n",
       "    </tr>\n",
       "    <tr>\n",
       "      <th>2</th>\n",
       "      <td>2011-08-18 00:35:00.00000049</td>\n",
       "      <td>5.7</td>\n",
       "      <td>2011-08-18 00:35:00 UTC</td>\n",
       "      <td>-73.982738</td>\n",
       "      <td>40.761270</td>\n",
       "      <td>-73.991242</td>\n",
       "      <td>40.750562</td>\n",
       "      <td>2</td>\n",
       "    </tr>\n",
       "    <tr>\n",
       "      <th>3</th>\n",
       "      <td>2012-04-21 04:30:42.0000001</td>\n",
       "      <td>7.7</td>\n",
       "      <td>2012-04-21 04:30:42 UTC</td>\n",
       "      <td>-73.987130</td>\n",
       "      <td>40.733143</td>\n",
       "      <td>-73.991567</td>\n",
       "      <td>40.758092</td>\n",
       "      <td>1</td>\n",
       "    </tr>\n",
       "    <tr>\n",
       "      <th>4</th>\n",
       "      <td>2010-03-09 07:51:00.000000135</td>\n",
       "      <td>5.3</td>\n",
       "      <td>2010-03-09 07:51:00 UTC</td>\n",
       "      <td>-73.968095</td>\n",
       "      <td>40.768008</td>\n",
       "      <td>-73.956655</td>\n",
       "      <td>40.783762</td>\n",
       "      <td>1</td>\n",
       "    </tr>\n",
       "    <tr>\n",
       "      <th>5</th>\n",
       "      <td>2011-01-06 09:50:45.0000002</td>\n",
       "      <td>12.1</td>\n",
       "      <td>2011-01-06 09:50:45 UTC</td>\n",
       "      <td>-74.000964</td>\n",
       "      <td>40.731630</td>\n",
       "      <td>-73.972892</td>\n",
       "      <td>40.758233</td>\n",
       "      <td>1</td>\n",
       "    </tr>\n",
       "    <tr>\n",
       "      <th>6</th>\n",
       "      <td>2012-11-20 20:35:00.0000001</td>\n",
       "      <td>7.5</td>\n",
       "      <td>2012-11-20 20:35:00 UTC</td>\n",
       "      <td>-73.980002</td>\n",
       "      <td>40.751662</td>\n",
       "      <td>-73.973802</td>\n",
       "      <td>40.764842</td>\n",
       "      <td>1</td>\n",
       "    </tr>\n",
       "    <tr>\n",
       "      <th>7</th>\n",
       "      <td>2012-01-04 17:22:00.00000081</td>\n",
       "      <td>16.5</td>\n",
       "      <td>2012-01-04 17:22:00 UTC</td>\n",
       "      <td>-73.951300</td>\n",
       "      <td>40.774138</td>\n",
       "      <td>-73.990095</td>\n",
       "      <td>40.751048</td>\n",
       "      <td>1</td>\n",
       "    </tr>\n",
       "    <tr>\n",
       "      <th>8</th>\n",
       "      <td>2012-12-03 13:10:00.000000125</td>\n",
       "      <td>9.0</td>\n",
       "      <td>2012-12-03 13:10:00 UTC</td>\n",
       "      <td>-74.006462</td>\n",
       "      <td>40.726713</td>\n",
       "      <td>-73.993078</td>\n",
       "      <td>40.731628</td>\n",
       "      <td>1</td>\n",
       "    </tr>\n",
       "    <tr>\n",
       "      <th>9</th>\n",
       "      <td>2009-09-02 01:11:00.00000083</td>\n",
       "      <td>8.9</td>\n",
       "      <td>2009-09-02 01:11:00 UTC</td>\n",
       "      <td>-73.980658</td>\n",
       "      <td>40.733873</td>\n",
       "      <td>-73.991540</td>\n",
       "      <td>40.758138</td>\n",
       "      <td>2</td>\n",
       "    </tr>\n",
       "  </tbody>\n",
       "</table>\n",
       "</div>"
      ],
      "text/plain": [
       "                             key  fare_amount          pickup_datetime  \\\n",
       "0    2009-06-15 17:26:21.0000001          4.5  2009-06-15 17:26:21 UTC   \n",
       "1    2010-01-05 16:52:16.0000002         16.9  2010-01-05 16:52:16 UTC   \n",
       "2   2011-08-18 00:35:00.00000049          5.7  2011-08-18 00:35:00 UTC   \n",
       "3    2012-04-21 04:30:42.0000001          7.7  2012-04-21 04:30:42 UTC   \n",
       "4  2010-03-09 07:51:00.000000135          5.3  2010-03-09 07:51:00 UTC   \n",
       "5    2011-01-06 09:50:45.0000002         12.1  2011-01-06 09:50:45 UTC   \n",
       "6    2012-11-20 20:35:00.0000001          7.5  2012-11-20 20:35:00 UTC   \n",
       "7   2012-01-04 17:22:00.00000081         16.5  2012-01-04 17:22:00 UTC   \n",
       "8  2012-12-03 13:10:00.000000125          9.0  2012-12-03 13:10:00 UTC   \n",
       "9   2009-09-02 01:11:00.00000083          8.9  2009-09-02 01:11:00 UTC   \n",
       "\n",
       "   pickup_longitude  pickup_latitude  dropoff_longitude  dropoff_latitude  \\\n",
       "0        -73.844311        40.721319         -73.841610         40.712278   \n",
       "1        -74.016048        40.711303         -73.979268         40.782004   \n",
       "2        -73.982738        40.761270         -73.991242         40.750562   \n",
       "3        -73.987130        40.733143         -73.991567         40.758092   \n",
       "4        -73.968095        40.768008         -73.956655         40.783762   \n",
       "5        -74.000964        40.731630         -73.972892         40.758233   \n",
       "6        -73.980002        40.751662         -73.973802         40.764842   \n",
       "7        -73.951300        40.774138         -73.990095         40.751048   \n",
       "8        -74.006462        40.726713         -73.993078         40.731628   \n",
       "9        -73.980658        40.733873         -73.991540         40.758138   \n",
       "\n",
       "   passenger_count  \n",
       "0                1  \n",
       "1                1  \n",
       "2                2  \n",
       "3                1  \n",
       "4                1  \n",
       "5                1  \n",
       "6                1  \n",
       "7                1  \n",
       "8                1  \n",
       "9                2  "
      ]
     },
     "execution_count": 3,
     "metadata": {},
     "output_type": "execute_result"
    }
   ],
   "source": [
    "train.head(10)"
   ]
  },
  {
   "cell_type": "code",
   "execution_count": 4,
   "metadata": {},
   "outputs": [
    {
     "name": "stdout",
     "output_type": "stream",
     "text": [
      "<class 'pandas.core.frame.DataFrame'>\n",
      "RangeIndex: 1000000 entries, 0 to 999999\n",
      "Data columns (total 8 columns):\n",
      "key                  1000000 non-null object\n",
      "fare_amount          1000000 non-null float64\n",
      "pickup_datetime      1000000 non-null object\n",
      "pickup_longitude     1000000 non-null float64\n",
      "pickup_latitude      1000000 non-null float64\n",
      "dropoff_longitude    999990 non-null float64\n",
      "dropoff_latitude     999990 non-null float64\n",
      "passenger_count      1000000 non-null int64\n",
      "dtypes: float64(5), int64(1), object(2)\n",
      "memory usage: 61.0+ MB\n"
     ]
    }
   ],
   "source": [
    "train.info()"
   ]
  },
  {
   "cell_type": "markdown",
   "metadata": {},
   "source": [
    "## Since there are only 10 missing data in dropoff coordinates, so let's drop them."
   ]
  },
  {
   "cell_type": "code",
   "execution_count": 5,
   "metadata": {},
   "outputs": [],
   "source": [
    "train = train.dropna()"
   ]
  },
  {
   "cell_type": "markdown",
   "metadata": {},
   "source": [
    "## Now Let's Convert pickup_datetime to datetime class and extract year, day of week and hour data to see if we can find some patterns."
   ]
  },
  {
   "cell_type": "code",
   "execution_count": 6,
   "metadata": {},
   "outputs": [],
   "source": [
    "train[\"pickup_datetime\"] = pd.to_datetime(train[\"pickup_datetime\"])\n",
    "train[\"pickup_year\"] = train[\"pickup_datetime\"].dt.year\n",
    "train[\"pickup_dow\"] = train[\"pickup_datetime\"].dt.dayofweek\n",
    "train[\"pickup_hour\"] = train[\"pickup_datetime\"].dt.hour"
   ]
  },
  {
   "cell_type": "code",
   "execution_count": 7,
   "metadata": {},
   "outputs": [
    {
     "data": {
      "text/plain": [
       "<matplotlib.axes._subplots.AxesSubplot at 0x18563dc8>"
      ]
     },
     "execution_count": 7,
     "metadata": {},
     "output_type": "execute_result"
    },
    {
     "data": {
      "image/png": "[encoded data removed]",
      "text/plain": [
       "<Figure size 432x288 with 1 Axes>"
      ]
     },
     "metadata": {
      "needs_background": "light"
     },
     "output_type": "display_data"
    }
   ],
   "source": [
    "train.groupby(\"pickup_year\")[\"fare_amount\"].mean().plot()"
   ]
  },
  {
   "cell_type": "code",
   "execution_count": 8,
   "metadata": {},
   "outputs": [
    {
     "data": {
      "text/plain": [
       "<matplotlib.axes._subplots.AxesSubplot at 0x9d32248>"
      ]
     },
     "execution_count": 8,
     "metadata": {},
     "output_type": "execute_result"
    },
    {
     "data": {
      "image/png": "[encoded data removed]",
      "text/plain": [
       "<Figure size 432x288 with 1 Axes>"
      ]
     },
     "metadata": {
      "needs_background": "light"
     },
     "output_type": "display_data"
    }
   ],
   "source": [
    "train.groupby(\"pickup_dow\")[\"fare_amount\"].mean().plot()"
   ]
  },
  {
   "cell_type": "code",
   "execution_count": 9,
   "metadata": {},
   "outputs": [
    {
     "data": {
      "text/plain": [
       "<matplotlib.axes._subplots.AxesSubplot at 0xf314cc8>"
      ]
     },
     "execution_count": 9,
     "metadata": {},
     "output_type": "execute_result"
    },
    {
     "data": {
      "image/png": "[encoded data removed]",
      "text/plain": [
       "<Figure size 432x288 with 1 Axes>"
      ]
     },
     "metadata": {
      "needs_background": "light"
     },
     "output_type": "display_data"
    }
   ],
   "source": [
    "train.groupby(\"pickup_hour\")[\"fare_amount\"].mean().plot()\n"
   ]
  },
  {
   "cell_type": "markdown",
   "metadata": {},
   "source": [
    "### From above graph we can understand that Taxi fare has 3 peaks in a day, Time : 4 to 6, 14 to 16 and 23 to 1. Fare tends to go up in after-midnight which could due to surcharge or the fact that public transportations are closed so commuters have to hire taxi instead even for long trip.\n",
    "\n",
    "### Now Next we are curious about to what extent travel distance is relevent to taxi fare so we calculate line distance between pickup and dropoff point. We convert coordinate to distance in km because latitude and longitude have different distance (one degree of lat = 111km; one degree of long = 85km).\n",
    "\n",
    "### So one degree of lat = 111km; one degree of long = 85km¶"
   ]
  },
  {
   "cell_type": "code",
   "execution_count": 10,
   "metadata": {},
   "outputs": [],
   "source": [
    "train[\"move_latitude\"] = (train[\"dropoff_latitude\"] - train[\"pickup_latitude\"]) * 111\n",
    "\n",
    "\n",
    "train[\"move_longitude\"] = (train[\"dropoff_longitude\"] - train[\"pickup_longitude\"]) * 85\n",
    "\n",
    "\n",
    "train[\"abs_distance\"] = np.hypot(train[\"move_latitude\"], train[\"move_longitude\"])"
   ]
  },
  {
   "cell_type": "code",
   "execution_count": 11,
   "metadata": {},
   "outputs": [
    {
     "data": {
      "text/plain": [
       "<matplotlib.collections.PathCollection at 0x1828c788>"
      ]
     },
     "execution_count": 11,
     "metadata": {},
     "output_type": "execute_result"
    },
    {
     "data": {
      "image/png": "[encoded data removed]",
      "text/plain": [
       "<Figure size 432x288 with 1 Axes>"
      ]
     },
     "metadata": {
      "needs_background": "light"
     },
     "output_type": "display_data"
    }
   ],
   "source": [
    "plt.scatter(train[\"abs_distance\"], train[\"fare_amount\"])"
   ]
  },
  {
   "cell_type": "markdown",
   "metadata": {},
   "source": [
    "### from graph seems that distance and fare have week correlation but we see some of the travel distance are long, they might be outside of city ."
   ]
  },
  {
   "cell_type": "code",
   "execution_count": 12,
   "metadata": {},
   "outputs": [
    {
     "data": {
      "text/plain": [
       "<matplotlib.collections.PathCollection at 0x10c26848>"
      ]
     },
     "execution_count": 12,
     "metadata": {},
     "output_type": "execute_result"
    },
    {
     "data": {
      "image/png": "[encoded data removed]",
      "text/plain": [
       "<Figure size 432x288 with 1 Axes>"
      ]
     },
     "metadata": {
      "needs_background": "light"
     },
     "output_type": "display_data"
    }
   ],
   "source": [
    "plt.scatter(train[\"pickup_longitude\"], train[\"pickup_latitude\"])\n"
   ]
  },
  {
   "cell_type": "markdown",
   "metadata": {},
   "source": [
    "\n",
    "\n",
    "\n",
    "### Now From the pickup coordinates plot, indeed there are some data points are unrealistic that we need to clean up The coordinates of city is (-73.9, 40.7) and we expect pickup coordinates to be within one degree of city\n",
    "\n",
    "\n"
   ]
  },
  {
   "cell_type": "code",
   "execution_count": 13,
   "metadata": {},
   "outputs": [
    {
     "data": {
      "text/html": [
       "<div>\n",
       "<style scoped>\n",
       "    .dataframe tbody tr th:only-of-type {\n",
       "        vertical-align: middle;\n",
       "    }\n",
       "\n",
       "    .dataframe tbody tr th {\n",
       "        vertical-align: top;\n",
       "    }\n",
       "\n",
       "    .dataframe thead th {\n",
       "        text-align: right;\n",
       "    }\n",
       "</style>\n",
       "<table border=\"1\" class=\"dataframe\">\n",
       "  <thead>\n",
       "    <tr style=\"text-align: right;\">\n",
       "      <th></th>\n",
       "      <th>fare_amount</th>\n",
       "      <th>pickup_longitude</th>\n",
       "      <th>pickup_latitude</th>\n",
       "      <th>dropoff_longitude</th>\n",
       "      <th>dropoff_latitude</th>\n",
       "      <th>passenger_count</th>\n",
       "      <th>pickup_year</th>\n",
       "      <th>pickup_dow</th>\n",
       "      <th>pickup_hour</th>\n",
       "      <th>move_latitude</th>\n",
       "      <th>move_longitude</th>\n",
       "      <th>abs_distance</th>\n",
       "    </tr>\n",
       "  </thead>\n",
       "  <tbody>\n",
       "    <tr>\n",
       "      <th>count</th>\n",
       "      <td>999990.000000</td>\n",
       "      <td>999990.000000</td>\n",
       "      <td>999990.000000</td>\n",
       "      <td>999990.000000</td>\n",
       "      <td>999990.000000</td>\n",
       "      <td>999990.000000</td>\n",
       "      <td>999990.000000</td>\n",
       "      <td>999990.000000</td>\n",
       "      <td>999990.000000</td>\n",
       "      <td>999990.000000</td>\n",
       "      <td>999990.000000</td>\n",
       "      <td>999990.000000</td>\n",
       "    </tr>\n",
       "    <tr>\n",
       "      <th>mean</th>\n",
       "      <td>11.347953</td>\n",
       "      <td>-72.526699</td>\n",
       "      <td>39.929040</td>\n",
       "      <td>-72.527860</td>\n",
       "      <td>39.919954</td>\n",
       "      <td>1.684941</td>\n",
       "      <td>2011.741103</td>\n",
       "      <td>3.039870</td>\n",
       "      <td>13.509463</td>\n",
       "      <td>-1.008522</td>\n",
       "      <td>-0.098606</td>\n",
       "      <td>21.665121</td>\n",
       "    </tr>\n",
       "    <tr>\n",
       "      <th>std</th>\n",
       "      <td>9.821790</td>\n",
       "      <td>12.057778</td>\n",
       "      <td>7.626087</td>\n",
       "      <td>11.324494</td>\n",
       "      <td>8.201418</td>\n",
       "      <td>1.323907</td>\n",
       "      <td>1.860761</td>\n",
       "      <td>1.949966</td>\n",
       "      <td>6.513855</td>\n",
       "      <td>918.171251</td>\n",
       "      <td>652.732766</td>\n",
       "      <td>1126.334834</td>\n",
       "    </tr>\n",
       "    <tr>\n",
       "      <th>min</th>\n",
       "      <td>-44.900000</td>\n",
       "      <td>-3377.680935</td>\n",
       "      <td>-3116.285383</td>\n",
       "      <td>-3383.296608</td>\n",
       "      <td>-3114.338567</td>\n",
       "      <td>0.000000</td>\n",
       "      <td>2009.000000</td>\n",
       "      <td>0.000000</td>\n",
       "      <td>0.000000</td>\n",
       "      <td>-608957.037063</td>\n",
       "      <td>-360433.063130</td>\n",
       "      <td>0.000000</td>\n",
       "    </tr>\n",
       "    <tr>\n",
       "      <th>25%</th>\n",
       "      <td>6.000000</td>\n",
       "      <td>-73.992060</td>\n",
       "      <td>40.734965</td>\n",
       "      <td>-73.991385</td>\n",
       "      <td>40.734046</td>\n",
       "      <td>1.000000</td>\n",
       "      <td>2010.000000</td>\n",
       "      <td>1.000000</td>\n",
       "      <td>9.000000</td>\n",
       "      <td>-1.523031</td>\n",
       "      <td>-0.958120</td>\n",
       "      <td>1.216958</td>\n",
       "    </tr>\n",
       "    <tr>\n",
       "      <th>50%</th>\n",
       "      <td>8.500000</td>\n",
       "      <td>-73.981792</td>\n",
       "      <td>40.752695</td>\n",
       "      <td>-73.980135</td>\n",
       "      <td>40.753166</td>\n",
       "      <td>1.000000</td>\n",
       "      <td>2012.000000</td>\n",
       "      <td>3.000000</td>\n",
       "      <td>14.000000</td>\n",
       "      <td>0.000000</td>\n",
       "      <td>0.031195</td>\n",
       "      <td>2.121506</td>\n",
       "    </tr>\n",
       "    <tr>\n",
       "      <th>75%</th>\n",
       "      <td>12.500000</td>\n",
       "      <td>-73.967094</td>\n",
       "      <td>40.767154</td>\n",
       "      <td>-73.963654</td>\n",
       "      <td>40.768129</td>\n",
       "      <td>2.000000</td>\n",
       "      <td>2013.000000</td>\n",
       "      <td>5.000000</td>\n",
       "      <td>19.000000</td>\n",
       "      <td>1.555443</td>\n",
       "      <td>1.158550</td>\n",
       "      <td>3.888289</td>\n",
       "    </tr>\n",
       "    <tr>\n",
       "      <th>max</th>\n",
       "      <td>500.000000</td>\n",
       "      <td>2522.271325</td>\n",
       "      <td>2621.628430</td>\n",
       "      <td>45.581619</td>\n",
       "      <td>1651.553433</td>\n",
       "      <td>208.000000</td>\n",
       "      <td>2015.000000</td>\n",
       "      <td>6.000000</td>\n",
       "      <td>23.000000</td>\n",
       "      <td>350435.145291</td>\n",
       "      <td>239934.790570</td>\n",
       "      <td>707630.317317</td>\n",
       "    </tr>\n",
       "  </tbody>\n",
       "</table>\n",
       "</div>"
      ],
      "text/plain": [
       "         fare_amount  pickup_longitude  pickup_latitude  dropoff_longitude  \\\n",
       "count  999990.000000     999990.000000    999990.000000      999990.000000   \n",
       "mean       11.347953        -72.526699        39.929040         -72.527860   \n",
       "std         9.821790         12.057778         7.626087          11.324494   \n",
       "min       -44.900000      -3377.680935     -3116.285383       -3383.296608   \n",
       "25%         6.000000        -73.992060        40.734965         -73.991385   \n",
       "50%         8.500000        -73.981792        40.752695         -73.980135   \n",
       "75%        12.500000        -73.967094        40.767154         -73.963654   \n",
       "max       500.000000       2522.271325      2621.628430          45.581619   \n",
       "\n",
       "       dropoff_latitude  passenger_count    pickup_year     pickup_dow  \\\n",
       "count     999990.000000    999990.000000  999990.000000  999990.000000   \n",
       "mean          39.919954         1.684941    2011.741103       3.039870   \n",
       "std            8.201418         1.323907       1.860761       1.949966   \n",
       "min        -3114.338567         0.000000    2009.000000       0.000000   \n",
       "25%           40.734046         1.000000    2010.000000       1.000000   \n",
       "50%           40.753166         1.000000    2012.000000       3.000000   \n",
       "75%           40.768129         2.000000    2013.000000       5.000000   \n",
       "max         1651.553433       208.000000    2015.000000       6.000000   \n",
       "\n",
       "         pickup_hour  move_latitude  move_longitude   abs_distance  \n",
       "count  999990.000000  999990.000000   999990.000000  999990.000000  \n",
       "mean       13.509463      -1.008522       -0.098606      21.665121  \n",
       "std         6.513855     918.171251      652.732766    1126.334834  \n",
       "min         0.000000 -608957.037063  -360433.063130       0.000000  \n",
       "25%         9.000000      -1.523031       -0.958120       1.216958  \n",
       "50%        14.000000       0.000000        0.031195       2.121506  \n",
       "75%        19.000000       1.555443        1.158550       3.888289  \n",
       "max        23.000000  350435.145291   239934.790570  707630.317317  "
      ]
     },
     "execution_count": 13,
     "metadata": {},
     "output_type": "execute_result"
    }
   ],
   "source": [
    "train.describe()"
   ]
  },
  {
   "cell_type": "markdown",
   "metadata": {},
   "source": [
    "### There are three parts of abnormal data that we need to drop off before proceeding the analysis\n",
    "### a. Drop pickup coordinates are not within one degree of NYC(-73.9, 40.7) Drop them\n",
    "### b. travel distance Which are greater than 100 km Drop Them\n",
    "### c. Drop zero or negative fare amount"
   ]
  },
  {
   "cell_type": "code",
   "execution_count": 14,
   "metadata": {},
   "outputs": [],
   "source": [
    "train = train[train[\"fare_amount\"] > 0]\n",
    "\n",
    "longtitude_range = (train[\"pickup_longitude\"] <= -73.4) & (train[\"pickup_longitude\"]  >= -74.4)\n",
    "latitude_range = (train[\"pickup_latitude\"] <= 41.2) & (train[\"pickup_latitude\"] >= 40.2)\n",
    "train_trim = train[longtitude_range & latitude_range]\n",
    "\n",
    "train_trim = train_trim[(train_trim[\"abs_distance\"] < 100) & (train_trim[\"abs_distance\"] > 0)]"
   ]
  },
  {
   "cell_type": "code",
   "execution_count": 15,
   "metadata": {},
   "outputs": [
    {
     "data": {
      "text/plain": [
       "0"
      ]
     },
     "execution_count": 15,
     "metadata": {},
     "output_type": "execute_result"
    }
   ],
   "source": [
    "train_trim.shape[0]/train.shape[0]"
   ]
  },
  {
   "cell_type": "code",
   "execution_count": 16,
   "metadata": {},
   "outputs": [
    {
     "data": {
      "text/plain": [
       "<matplotlib.colorbar.Colorbar at 0x14ce0f48>"
      ]
     },
     "execution_count": 16,
     "metadata": {},
     "output_type": "execute_result"
    },
    {
     "data": {
      "image/png": "[encoded data removed]",
      "text/plain": [
       "<Figure size 432x288 with 2 Axes>"
      ]
     },
     "metadata": {
      "needs_background": "light"
     },
     "output_type": "display_data"
    }
   ],
   "source": [
    "sc = plt.scatter(train_trim[\"pickup_longitude\"], train_trim[\"pickup_latitude\"], c = train_trim[\"fare_amount\"], cmap = \"summer\")\n",
    "plt.colorbar(sc)"
   ]
  },
  {
   "cell_type": "markdown",
   "metadata": {},
   "source": [
    "### Unfortunately, by plotting out pickup coordinates with color representing fare amount we're still not able to see clear boundries seperating areas with different level of taxi fare."
   ]
  },
  {
   "cell_type": "code",
   "execution_count": 17,
   "metadata": {},
   "outputs": [
    {
     "data": {
      "text/plain": [
       "<matplotlib.collections.PathCollection at 0x12884f48>"
      ]
     },
     "execution_count": 17,
     "metadata": {},
     "output_type": "execute_result"
    },
    {
     "data": {
      "image/png": "[encoded data removed]",
      "text/plain": [
       "<Figure size 432x288 with 1 Axes>"
      ]
     },
     "metadata": {
      "needs_background": "light"
     },
     "output_type": "display_data"
    }
   ],
   "source": [
    "plt.scatter(train_trim[\"abs_distance\"], train_trim[\"fare_amount\"])"
   ]
  },
  {
   "cell_type": "markdown",
   "metadata": {},
   "source": [
    "### After clearing abnormal data, the correlationship between travel distance and fare becomes more clear. We print out correlation coefficient of fare_amount and other variables at below, it shows 0.86 for abs_distance which is very high. Other medium-highly correlated variables are pickup_longitude and dropoff_longitude, can be explained that traveling from/to the east side of City would have higher taxi cost."
   ]
  },
  {
   "cell_type": "code",
   "execution_count": 18,
   "metadata": {},
   "outputs": [
    {
     "data": {
      "text/plain": [
       "fare_amount          1.000000\n",
       "abs_distance         0.863739\n",
       "pickup_longitude     0.426462\n",
       "dropoff_longitude    0.317211\n",
       "pickup_year          0.118346\n",
       "move_latitude        0.017087\n",
       "passenger_count      0.015063\n",
       "pickup_dow           0.002513\n",
       "pickup_hour         -0.019109\n",
       "move_longitude      -0.090367\n",
       "dropoff_latitude    -0.163379\n",
       "pickup_latitude     -0.208793\n",
       "Name: fare_amount, dtype: float64"
      ]
     },
     "execution_count": 18,
     "metadata": {},
     "output_type": "execute_result"
    }
   ],
   "source": [
    "train_trim.corr()[\"fare_amount\"].sort_values(ascending = False)"
   ]
  },
  {
   "cell_type": "code",
   "execution_count": 19,
   "metadata": {},
   "outputs": [
    {
     "data": {
      "text/plain": [
       "<matplotlib.collections.PathCollection at 0x14dc0e08>"
      ]
     },
     "execution_count": 19,
     "metadata": {},
     "output_type": "execute_result"
    },
    {
     "data": {
      "image/png": "[encoded data removed]",
      "text/plain": [
       "<Figure size 432x288 with 1 Axes>"
      ]
     },
     "metadata": {
      "needs_background": "light"
     },
     "output_type": "display_data"
    }
   ],
   "source": [
    "plt.scatter(train_trim[\"pickup_longitude\"], train_trim[\"fare_amount\"])"
   ]
  },
  {
   "cell_type": "markdown",
   "metadata": {},
   "source": [
    "### Lastly we want to check whether travel orientation contributes to taxi fare so we categorize the data into east/west and north/south."
   ]
  },
  {
   "cell_type": "code",
   "execution_count": 20,
   "metadata": {},
   "outputs": [],
   "source": [
    "train_trim[\"toward_east\"] = train_trim[\"move_longitude\"] > 0\n",
    "train_trim[\"toward_north\"] = train_trim[\"move_latitude\"] > 0\n"
   ]
  },
  {
   "cell_type": "code",
   "execution_count": 21,
   "metadata": {},
   "outputs": [
    {
     "data": {
      "text/plain": [
       "<matplotlib.axes._subplots.AxesSubplot at 0x159cf748>"
      ]
     },
     "execution_count": 21,
     "metadata": {},
     "output_type": "execute_result"
    },
    {
     "data": {
      "image/png": "[encoded data removed]",
      "text/plain": [
       "<Figure size 432x288 with 1 Axes>"
      ]
     },
     "metadata": {
      "needs_background": "light"
     },
     "output_type": "display_data"
    }
   ],
   "source": [
    "train_trim.boxplot(column = [\"fare_amount\"], by = \"toward_east\", showfliers = False)"
   ]
  },
  {
   "cell_type": "code",
   "execution_count": 22,
   "metadata": {},
   "outputs": [
    {
     "data": {
      "text/plain": [
       "<matplotlib.axes._subplots.AxesSubplot at 0xe5b7d08>"
      ]
     },
     "execution_count": 22,
     "metadata": {},
     "output_type": "execute_result"
    },
    {
     "data": {
      "image/png": "[encoded data removed]",
      "text/plain": [
       "<Figure size 432x288 with 1 Axes>"
      ]
     },
     "metadata": {
      "needs_background": "light"
     },
     "output_type": "display_data"
    }
   ],
   "source": [
    "train_trim.boxplot(column = [\"fare_amount\"], by = \"toward_north\", showfliers = False)"
   ]
  },
  {
   "cell_type": "markdown",
   "metadata": {},
   "source": [
    "### so from above graphs no matter which two of opposite orientations, the distributions of fare amount don't seem to have too much difference."
   ]
  },
  {
   "cell_type": "code",
   "execution_count": 23,
   "metadata": {},
   "outputs": [],
   "source": [
    "from sklearn.pipeline import Pipeline, FeatureUnion\n",
    "from sklearn.base import BaseEstimator, TransformerMixin\n",
    "from sklearn.preprocessing import OneHotEncoder, StandardScaler, PolynomialFeatures\n",
    "from sklearn.linear_model import LinearRegression\n",
    "from sklearn.model_selection import cross_val_score, GridSearchCV\n",
    "from sklearn.ensemble import RandomForestRegressor\n",
    "from sklearn.svm import LinearSVR, SVR\n",
    "from sklearn.compose import ColumnTransformer"
   ]
  },
  {
   "cell_type": "markdown",
   "metadata": {},
   "source": [
    "# Features Preprocessing Pipeline"
   ]
  },
  {
   "cell_type": "markdown",
   "metadata": {},
   "source": [
    "### After exploring the data, we get to know that which are good features to feed into predictive models to predict taxi fare,\n",
    "\n",
    "### -Categorical: pickup hour and pickup day of week\n",
    "\n",
    "### -Numerical: pickup year, travel distance, pickup longitude and dropoff longitude\n",
    "\n",
    "### Before training our data, we build pipelines that can handle preprocessing for each type of features respectively then combine together, for example, categorical features have to be encoded to multiple binaries as inputs and numerical features require scaling to have a better performance in certain machine learning algorithms."
   ]
  },
  {
   "cell_type": "code",
   "execution_count": 24,
   "metadata": {},
   "outputs": [],
   "source": [
    "## group pickup hour into bins in order to reduce model runtime\n",
    "class HourlyBins(BaseEstimator, TransformerMixin): \n",
    "    def __init__(self, bins = 8):\n",
    "        self.bins = bins\n",
    "    def fit(self, X, y = None):\n",
    "        return self\n",
    "    def transform(self, X, y = None):    \n",
    "        pickup_hour_bin = np.array(pd.cut(X[X.columns[0]], self.bins))\n",
    "        return pickup_hour_bin.reshape(-1, 1)"
   ]
  },
  {
   "cell_type": "code",
   "execution_count": 25,
   "metadata": {},
   "outputs": [],
   "source": [
    "hour_pipe = Pipeline([\n",
    "    ('hourlybins', HourlyBins()),\n",
    "    ('encoder', OneHotEncoder(categories='auto', sparse = False)),\n",
    "])\n",
    "\n",
    "ct_pipe = ColumnTransformer(transformers=[\n",
    "    ('hourly_cat', hour_pipe, [\"pickup_hour\"]),\n",
    "    ('encoder', OneHotEncoder(categories='auto', sparse = False), [\"pickup_dow\"]),\n",
    "    ('std_scaler', StandardScaler(), [\"pickup_year\", \"abs_distance\", \"pickup_longitude\", \"dropoff_longitude\"])\n",
    "])"
   ]
  },
  {
   "cell_type": "code",
   "execution_count": 26,
   "metadata": {},
   "outputs": [],
   "source": [
    "## build a function that can break raw data into independent variables and dependent variable for the models\n",
    "def XandY(df, test_set = False):\n",
    "    df = df.copy()\n",
    "    df[\"pickup_datetime\"] = pd.to_datetime(df[\"pickup_datetime\"])\n",
    "    df[\"pickup_year\"] = df[\"pickup_datetime\"].dt.year.astype(float)\n",
    "    df[\"pickup_dow\"] = df[\"pickup_datetime\"].dt.dayofweek\n",
    "    df[\"pickup_hour\"] = df[\"pickup_datetime\"].dt.hour\n",
    "    df[\"abs_distance\"] = np.hypot(df[\"dropoff_latitude\"]-df[\"pickup_latitude\"], df[\"dropoff_longitude\"]-df[\"pickup_longitude\"])\n",
    "    df_X = df[[\"pickup_year\", \"pickup_dow\", \"pickup_hour\", \"abs_distance\", \"pickup_longitude\", \"dropoff_longitude\"]]\n",
    "    if test_set == True:\n",
    "        return df_X\n",
    "    else:\n",
    "        df_y = df[\"fare_amount\"]\n",
    "        return df_X, df_y\n",
    "\n",
    "train_X, train_y = XandY(train_trim)"
   ]
  },
  {
   "cell_type": "markdown",
   "metadata": {},
   "source": [
    "# Now Apply Different Regression Models to Predict More Accurate Fair"
   ]
  },
  {
   "cell_type": "markdown",
   "metadata": {},
   "source": [
    "# Linear Regression"
   ]
  },
  {
   "cell_type": "code",
   "execution_count": 27,
   "metadata": {},
   "outputs": [
    {
     "data": {
      "text/plain": [
       "4.5942891344722669"
      ]
     },
     "execution_count": 27,
     "metadata": {},
     "output_type": "execute_result"
    }
   ],
   "source": [
    "lr_pipe = Pipeline([\n",
    "    ('ct', ct_pipe),\n",
    "    ('lin_reg', LinearRegression())\n",
    "]) \n",
    "lr_score = cross_val_score(lr_pipe, train_X, train_y, scoring = \"neg_mean_squared_error\", cv = 5)\n",
    "lr_rmse = np.sqrt(-lr_score)\n",
    "lr_rmse.mean()"
   ]
  },
  {
   "cell_type": "markdown",
   "metadata": {},
   "source": [
    "# Polynomial Regression"
   ]
  },
  {
   "cell_type": "markdown",
   "metadata": {},
   "source": [
    "### Before fitting a polynomial regression, we have to add polynomial features for numerical variables, we build this into preprocessing pipelines then we can do grid search on different degrees of polynomial more easily."
   ]
  },
  {
   "cell_type": "code",
   "execution_count": 28,
   "metadata": {},
   "outputs": [
    {
     "data": {
      "text/plain": [
       "{'poly_ct__poly__poly_features__degree': 3,\n",
       " 'poly_ct__poly__poly_features__include_bias': True}"
      ]
     },
     "execution_count": 28,
     "metadata": {},
     "output_type": "execute_result"
    }
   ],
   "source": [
    "poly_pipe = Pipeline([\n",
    "    ('poly_features', PolynomialFeatures()),\n",
    "    ('std_scaler', StandardScaler())\n",
    "])\n",
    "\n",
    "poly_ct_pipe = ColumnTransformer(transformers=[\n",
    "    ('hourly_cat', hour_pipe, [\"pickup_hour\"]),\n",
    "    ('encoder', OneHotEncoder(categories='auto', sparse = False), [\"pickup_dow\"]),\n",
    "    ('poly', poly_pipe, [\"pickup_year\", \"abs_distance\", \"pickup_longitude\", \"dropoff_longitude\"])\n",
    "])\n",
    "\n",
    "polyreg_pipe = Pipeline([\n",
    "    ('poly_ct', poly_ct_pipe),\n",
    "    ('reg', LinearRegression())\n",
    "])\n",
    "\n",
    "param_grid = {'poly_ct__poly__poly_features__degree': [2,3,5], 'poly_ct__poly__poly_features__include_bias': [False, True]}\n",
    "polyreg_gs = GridSearchCV(polyreg_pipe, param_grid, cv = 5, scoring = \"neg_mean_squared_error\")\n",
    "polyreg_gs.fit(train_X, train_y)\n",
    "polyreg_gs.best_params_"
   ]
  },
  {
   "cell_type": "code",
   "execution_count": 29,
   "metadata": {},
   "outputs": [
    {
     "data": {
      "text/plain": [
       "4.2104961516043504"
      ]
     },
     "execution_count": 29,
     "metadata": {},
     "output_type": "execute_result"
    }
   ],
   "source": [
    "np.sqrt(-polyreg_gs.best_score_)"
   ]
  },
  {
   "cell_type": "markdown",
   "metadata": {},
   "source": [
    "### So Polynomial regression improves the prediction error by 8%."
   ]
  },
  {
   "cell_type": "markdown",
   "metadata": {},
   "source": [
    "# Random Forest Regression"
   ]
  },
  {
   "cell_type": "code",
   "execution_count": 30,
   "metadata": {},
   "outputs": [
    {
     "data": {
      "text/plain": [
       "4.0534650048390706"
      ]
     },
     "execution_count": 30,
     "metadata": {},
     "output_type": "execute_result"
    }
   ],
   "source": [
    "rfr_pipe = Pipeline([\n",
    "    ('ct', ct_pipe),\n",
    "    ('forest_reg', RandomForestRegressor(n_estimators = 10, n_jobs = -1, random_state = 3))\n",
    "])\n",
    "\n",
    "rfr_score = cross_val_score(rfr_pipe, train_X, train_y, scoring = \"neg_mean_squared_error\", cv = 5)\n",
    "rfr_rmse = np.sqrt(-rfr_score)\n",
    "rfr_rmse.mean()"
   ]
  },
  {
   "cell_type": "markdown",
   "metadata": {},
   "source": [
    "### Random forest regression so far the best performer before even tuning the hyperparameters so we're keen to see if we can bring down the error with grid searches."
   ]
  },
  {
   "cell_type": "code",
   "execution_count": 31,
   "metadata": {},
   "outputs": [
    {
     "data": {
      "text/plain": [
       "{'forest_reg__max_features': 8, 'forest_reg__n_estimators': 20}"
      ]
     },
     "execution_count": 31,
     "metadata": {},
     "output_type": "execute_result"
    }
   ],
   "source": [
    "param_grid = {'forest_reg__n_estimators': [10, 20], 'forest_reg__max_features': [4, 8, 'auto']}\n",
    "forest_gs = GridSearchCV(rfr_pipe, param_grid, cv = 5, scoring = \"neg_mean_squared_error\")\n",
    "forest_gs.fit(train_X, train_y)\n",
    "forest_gs.best_params_"
   ]
  },
  {
   "cell_type": "code",
   "execution_count": 32,
   "metadata": {},
   "outputs": [
    {
     "data": {
      "text/plain": [
       "3.9138987431342041"
      ]
     },
     "execution_count": 32,
     "metadata": {},
     "output_type": "execute_result"
    }
   ],
   "source": [
    "np.sqrt(-forest_gs.best_score_)\n"
   ]
  },
  {
   "cell_type": "code",
   "execution_count": 33,
   "metadata": {},
   "outputs": [
    {
     "data": {
      "text/plain": [
       "array([ 4.10013607,  3.98669732,  4.01173281,  3.91389874,  4.05675042,\n",
       "        3.96155833])"
      ]
     },
     "execution_count": 33,
     "metadata": {},
     "output_type": "execute_result"
    }
   ],
   "source": [
    "\n",
    "np.sqrt(-forest_gs.cv_results_[\"mean_test_score\"])"
   ]
  },
  {
   "cell_type": "markdown",
   "metadata": {},
   "source": [
    "### From the grid search results we see different max_features don't make too much difference in error, so as n_estimators, however we see with bigger estimators the errors are improved consistently so it's worth to try an even bigger n_estimators."
   ]
  },
  {
   "cell_type": "markdown",
   "metadata": {},
   "source": [
    "# SVM Regression"
   ]
  },
  {
   "cell_type": "code",
   "execution_count": 35,
   "metadata": {},
   "outputs": [
    {
     "data": {
      "text/plain": [
       "{'lin_svr__epsilon': 2}"
      ]
     },
     "execution_count": 35,
     "metadata": {},
     "output_type": "execute_result"
    }
   ],
   "source": [
    "svr_pipe = Pipeline([\n",
    "    ('ct', ct_pipe),\n",
    "    ('lin_svr', LinearSVR())\n",
    "]) \n",
    "\n",
    "param_grid = {'lin_svr__epsilon': [0.5, 1, 2, 4]}\n",
    "svr_gs = GridSearchCV(svr_pipe, param_grid, cv = 5, scoring = \"neg_mean_squared_error\")\n",
    "svr_gs.fit(train_X, train_y)\n",
    "svr_gs.best_params_"
   ]
  },
  {
   "cell_type": "code",
   "execution_count": 36,
   "metadata": {},
   "outputs": [
    {
     "data": {
      "text/plain": [
       "4.6060671599342173"
      ]
     },
     "execution_count": 36,
     "metadata": {},
     "output_type": "execute_result"
    }
   ],
   "source": [
    "np.sqrt(-svr_gs.best_score_)"
   ]
  },
  {
   "cell_type": "markdown",
   "metadata": {},
   "source": [
    "### Linear SVR yields the similar performance as linear regression after grid search. So We Can try another non-linear SVR with RBF kernel."
   ]
  },
  {
   "cell_type": "markdown",
   "metadata": {},
   "source": [
    "# Apply Model to Test Set"
   ]
  },
  {
   "cell_type": "markdown",
   "metadata": {},
   "source": [
    "### Now we've tested a handful of models and decide to choose forest_gs.best_estimator as the final model since it has both accuracy and speed. Next step is to show how to apply the model to new test data and make predictions."
   ]
  },
  {
   "cell_type": "code",
   "execution_count": 38,
   "metadata": {},
   "outputs": [],
   "source": [
    "test = pd.read_csv(\"cab_fair_test.csv\")"
   ]
  },
  {
   "cell_type": "code",
   "execution_count": 39,
   "metadata": {},
   "outputs": [
    {
     "name": "stdout",
     "output_type": "stream",
     "text": [
      "<class 'pandas.core.frame.DataFrame'>\n",
      "RangeIndex: 9914 entries, 0 to 9913\n",
      "Data columns (total 7 columns):\n",
      "key                  9914 non-null object\n",
      "pickup_datetime      9914 non-null object\n",
      "pickup_longitude     9914 non-null float64\n",
      "pickup_latitude      9914 non-null float64\n",
      "dropoff_longitude    9914 non-null float64\n",
      "dropoff_latitude     9914 non-null float64\n",
      "passenger_count      9914 non-null int64\n",
      "dtypes: float64(4), int64(1), object(2)\n",
      "memory usage: 542.2+ KB\n"
     ]
    }
   ],
   "source": [
    "test.info()"
   ]
  },
  {
   "cell_type": "code",
   "execution_count": 40,
   "metadata": {},
   "outputs": [],
   "source": [
    "test_X = XandY(test, test_set = True)"
   ]
  },
  {
   "cell_type": "code",
   "execution_count": 41,
   "metadata": {},
   "outputs": [],
   "source": [
    "final_model = forest_gs.best_estimator_"
   ]
  },
  {
   "cell_type": "code",
   "execution_count": 42,
   "metadata": {},
   "outputs": [],
   "source": [
    "test[\"fare_amount_pred\"] = final_model.predict(test_X)"
   ]
  },
  {
   "cell_type": "code",
   "execution_count": 43,
   "metadata": {},
   "outputs": [
    {
     "data": {
      "text/html": [
       "<div>\n",
       "<style scoped>\n",
       "    .dataframe tbody tr th:only-of-type {\n",
       "        vertical-align: middle;\n",
       "    }\n",
       "\n",
       "    .dataframe tbody tr th {\n",
       "        vertical-align: top;\n",
       "    }\n",
       "\n",
       "    .dataframe thead th {\n",
       "        text-align: right;\n",
       "    }\n",
       "</style>\n",
       "<table border=\"1\" class=\"dataframe\">\n",
       "  <thead>\n",
       "    <tr style=\"text-align: right;\">\n",
       "      <th></th>\n",
       "      <th>key</th>\n",
       "      <th>pickup_datetime</th>\n",
       "      <th>pickup_longitude</th>\n",
       "      <th>pickup_latitude</th>\n",
       "      <th>dropoff_longitude</th>\n",
       "      <th>dropoff_latitude</th>\n",
       "      <th>passenger_count</th>\n",
       "      <th>fare_amount_pred</th>\n",
       "    </tr>\n",
       "  </thead>\n",
       "  <tbody>\n",
       "    <tr>\n",
       "      <th>0</th>\n",
       "      <td>2015-01-27 13:08:24.0000002</td>\n",
       "      <td>2015-01-27 13:08:24 UTC</td>\n",
       "      <td>-73.973320</td>\n",
       "      <td>40.763805</td>\n",
       "      <td>-73.981430</td>\n",
       "      <td>40.743835</td>\n",
       "      <td>1</td>\n",
       "      <td>13.2500</td>\n",
       "    </tr>\n",
       "    <tr>\n",
       "      <th>1</th>\n",
       "      <td>2015-01-27 13:08:24.0000003</td>\n",
       "      <td>2015-01-27 13:08:24 UTC</td>\n",
       "      <td>-73.986862</td>\n",
       "      <td>40.719383</td>\n",
       "      <td>-73.998886</td>\n",
       "      <td>40.739201</td>\n",
       "      <td>1</td>\n",
       "      <td>11.6250</td>\n",
       "    </tr>\n",
       "    <tr>\n",
       "      <th>2</th>\n",
       "      <td>2011-10-08 11:53:44.0000002</td>\n",
       "      <td>2011-10-08 11:53:44 UTC</td>\n",
       "      <td>-73.982524</td>\n",
       "      <td>40.751260</td>\n",
       "      <td>-73.979654</td>\n",
       "      <td>40.746139</td>\n",
       "      <td>1</td>\n",
       "      <td>4.4600</td>\n",
       "    </tr>\n",
       "    <tr>\n",
       "      <th>3</th>\n",
       "      <td>2012-12-01 21:12:12.0000002</td>\n",
       "      <td>2012-12-01 21:12:12 UTC</td>\n",
       "      <td>-73.981160</td>\n",
       "      <td>40.767807</td>\n",
       "      <td>-73.990448</td>\n",
       "      <td>40.751635</td>\n",
       "      <td>1</td>\n",
       "      <td>9.5250</td>\n",
       "    </tr>\n",
       "    <tr>\n",
       "      <th>4</th>\n",
       "      <td>2012-12-01 21:12:12.0000003</td>\n",
       "      <td>2012-12-01 21:12:12 UTC</td>\n",
       "      <td>-73.966046</td>\n",
       "      <td>40.789775</td>\n",
       "      <td>-73.988565</td>\n",
       "      <td>40.744427</td>\n",
       "      <td>1</td>\n",
       "      <td>13.0250</td>\n",
       "    </tr>\n",
       "    <tr>\n",
       "      <th>5</th>\n",
       "      <td>2012-12-01 21:12:12.0000005</td>\n",
       "      <td>2012-12-01 21:12:12 UTC</td>\n",
       "      <td>-73.960983</td>\n",
       "      <td>40.765547</td>\n",
       "      <td>-73.979177</td>\n",
       "      <td>40.740053</td>\n",
       "      <td>1</td>\n",
       "      <td>11.2000</td>\n",
       "    </tr>\n",
       "    <tr>\n",
       "      <th>6</th>\n",
       "      <td>2011-10-06 12:10:20.0000001</td>\n",
       "      <td>2011-10-06 12:10:20 UTC</td>\n",
       "      <td>-73.949013</td>\n",
       "      <td>40.773204</td>\n",
       "      <td>-73.959622</td>\n",
       "      <td>40.770893</td>\n",
       "      <td>1</td>\n",
       "      <td>5.6400</td>\n",
       "    </tr>\n",
       "    <tr>\n",
       "      <th>7</th>\n",
       "      <td>2011-10-06 12:10:20.0000003</td>\n",
       "      <td>2011-10-06 12:10:20 UTC</td>\n",
       "      <td>-73.777282</td>\n",
       "      <td>40.646636</td>\n",
       "      <td>-73.985083</td>\n",
       "      <td>40.759368</td>\n",
       "      <td>1</td>\n",
       "      <td>49.0685</td>\n",
       "    </tr>\n",
       "    <tr>\n",
       "      <th>8</th>\n",
       "      <td>2011-10-06 12:10:20.0000002</td>\n",
       "      <td>2011-10-06 12:10:20 UTC</td>\n",
       "      <td>-74.014099</td>\n",
       "      <td>40.709638</td>\n",
       "      <td>-73.995106</td>\n",
       "      <td>40.741365</td>\n",
       "      <td>1</td>\n",
       "      <td>10.3800</td>\n",
       "    </tr>\n",
       "    <tr>\n",
       "      <th>9</th>\n",
       "      <td>2014-02-18 15:22:20.0000002</td>\n",
       "      <td>2014-02-18 15:22:20 UTC</td>\n",
       "      <td>-73.969582</td>\n",
       "      <td>40.765519</td>\n",
       "      <td>-73.980686</td>\n",
       "      <td>40.770725</td>\n",
       "      <td>1</td>\n",
       "      <td>6.4750</td>\n",
       "    </tr>\n",
       "  </tbody>\n",
       "</table>\n",
       "</div>"
      ],
      "text/plain": [
       "                           key          pickup_datetime  pickup_longitude  \\\n",
       "0  2015-01-27 13:08:24.0000002  2015-01-27 13:08:24 UTC        -73.973320   \n",
       "1  2015-01-27 13:08:24.0000003  2015-01-27 13:08:24 UTC        -73.986862   \n",
       "2  2011-10-08 11:53:44.0000002  2011-10-08 11:53:44 UTC        -73.982524   \n",
       "3  2012-12-01 21:12:12.0000002  2012-12-01 21:12:12 UTC        -73.981160   \n",
       "4  2012-12-01 21:12:12.0000003  2012-12-01 21:12:12 UTC        -73.966046   \n",
       "5  2012-12-01 21:12:12.0000005  2012-12-01 21:12:12 UTC        -73.960983   \n",
       "6  2011-10-06 12:10:20.0000001  2011-10-06 12:10:20 UTC        -73.949013   \n",
       "7  2011-10-06 12:10:20.0000003  2011-10-06 12:10:20 UTC        -73.777282   \n",
       "8  2011-10-06 12:10:20.0000002  2011-10-06 12:10:20 UTC        -74.014099   \n",
       "9  2014-02-18 15:22:20.0000002  2014-02-18 15:22:20 UTC        -73.969582   \n",
       "\n",
       "   pickup_latitude  dropoff_longitude  dropoff_latitude  passenger_count  \\\n",
       "0        40.763805         -73.981430         40.743835                1   \n",
       "1        40.719383         -73.998886         40.739201                1   \n",
       "2        40.751260         -73.979654         40.746139                1   \n",
       "3        40.767807         -73.990448         40.751635                1   \n",
       "4        40.789775         -73.988565         40.744427                1   \n",
       "5        40.765547         -73.979177         40.740053                1   \n",
       "6        40.773204         -73.959622         40.770893                1   \n",
       "7        40.646636         -73.985083         40.759368                1   \n",
       "8        40.709638         -73.995106         40.741365                1   \n",
       "9        40.765519         -73.980686         40.770725                1   \n",
       "\n",
       "   fare_amount_pred  \n",
       "0           13.2500  \n",
       "1           11.6250  \n",
       "2            4.4600  \n",
       "3            9.5250  \n",
       "4           13.0250  \n",
       "5           11.2000  \n",
       "6            5.6400  \n",
       "7           49.0685  \n",
       "8           10.3800  \n",
       "9            6.4750  "
      ]
     },
     "execution_count": 43,
     "metadata": {},
     "output_type": "execute_result"
    }
   ],
   "source": [
    "test.head(10)\n"
   ]
  },
  {
   "cell_type": "markdown",
   "metadata": {},
   "source": [
    "## So finally We Make The Predictions for Cab(Taxi) Fair."
   ]
  },
  {
   "cell_type": "code",
   "execution_count": null,
   "metadata": {},
   "outputs": [],
   "source": []
  }
 ],
 "metadata": {
  "kernelspec": {
   "display_name": "Python 2",
   "language": "python",
   "name": "python2"
  },
  "language_info": {
   "codemirror_mode": {
    "name": "ipython",
    "version": 2
   },
   "file_extension": ".py",
   "mimetype": "text/x-python",
   "name": "python",
   "nbconvert_exporter": "python",
   "pygments_lexer": "ipython2",
   "version": "2.7.18"
  }
 },
 "nbformat": 4,
 "nbformat_minor": 2
}
